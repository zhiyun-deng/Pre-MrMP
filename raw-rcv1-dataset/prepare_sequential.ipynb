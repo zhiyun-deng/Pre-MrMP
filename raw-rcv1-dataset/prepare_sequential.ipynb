{
 "cells": [
  {
   "cell_type": "code",
   "execution_count": 1,
   "id": "13092ee9",
   "metadata": {},
   "outputs": [],
   "source": [
    "import numpy as np\n",
    "import torch\n",
    "# Get the unique words in a rcv1 file as a dictionary; number those words\n",
    "def get_dict_from_file(filename):\n",
    "    f = open(filename,'r')\n",
    "    line_num = 0\n",
    "    article_num = 0\n",
    "    word_num = 0\n",
    "    words = {}\n",
    "    for line in f:\n",
    "        if(line[0]!='.'): # the last line is 171541\n",
    "            for word in line.split():\n",
    "                if word not in words:\n",
    "                    words[word] = word_num\n",
    "                    word_num+=1\n",
    "        line_num+=1\n",
    "    print(len(words))\n",
    "    return words\n",
    "# Get the unique labels from the rcv1 raw label file as dictionary; number those labels\n",
    "def get_dict_from_label_file(filename):\n",
    "    f = open(filename,'r')\n",
    "    word_num = 0\n",
    "    words = {}\n",
    "    for line in f:\n",
    "        label = line.split()[0]\n",
    "        if label not in words:\n",
    "            # the +4 is necessary because MrMP deletes label 0-3 (it thinks they are special characters)\n",
    "            words[label] = word_num+4 \n",
    "            word_num+=1\n",
    "    # inserts special characters expected by dictionary\n",
    "    words['<blank>'] = 0\n",
    "    words['<unk>'] = 1\n",
    "    words['<s>'] = 2\n",
    "    words['</s>'] = 3\n",
    "    print(len(words))\n",
    "    return words\n",
    "# rcv1 dataset has numbered articles. The goal is to have a dictionary where the key is the article\n",
    "# number and the value is a list of label numbers for that article. \n",
    "# num_of_label is a dictionary mapping label name to its number\n",
    "def get_article_labels_dict(filename):\n",
    "    article_labels = {}\n",
    "    f = open(filename,'r')\n",
    "    num_of_label = get_dict_from_label_file(filename)\n",
    "    for line in f:\n",
    "        label = line.split()[0]\n",
    "        article_num = line.split()[1]\n",
    "        if article_num not in article_labels:\n",
    "            article_labels[article_num] = [num_of_label[label]]\n",
    "        else:\n",
    "            article_labels[article_num].append(num_of_label[label])\n",
    "    return article_labels\n",
    "    \n",
    "    "
   ]
  },
  {
   "cell_type": "code",
   "execution_count": 2,
   "id": "4643740e",
   "metadata": {},
   "outputs": [],
   "source": [
    "# creates the feature sequence, which is a list containing sublists, one sublist for each article.\n",
    "# Each sublist contains a sequence of words, using numbers corresponding to their dictionary value\n",
    "# as specified by the dictionary \"words\". A label sequence is constructed\n",
    "# in a similar manner. Both feature sequence and label sequence are returned. \n",
    "# article_labels_dict is a dictionary mapping article numbers to a list of labels\n",
    "def get_sequences_from_file(filename, words,article_labels_dict):\n",
    "    article_num = -1\n",
    "    feature_sequence = []\n",
    "    label_sequence = []\n",
    "    current = []\n",
    "    \n",
    "    f = open(filename,'r')\n",
    "    for line in f:\n",
    "        if line[0:2] == \".I\": # each article will begin with \".I 2286\\n\", where 2286 is the article num\n",
    "            article_num += 1\n",
    "            label_sequence.append(article_labels_dict[line[3:].strip()])\n",
    "            if (article_num!=0):\n",
    "                feature_sequence.append(current)\n",
    "                current = []\n",
    "        elif (line[0]!='.'): # the last line is 171541\n",
    "            for word in line.split():\n",
    "                # sometimes the test file may have words that do not appear in the dictionary\n",
    "                # because they are not in training. We ignore these\n",
    "                if word in words: \n",
    "                    current.append(words[word])\n",
    "        \n",
    "    feature_sequence.append(current)\n",
    "    return feature_sequence, label_sequence\n"
   ]
  },
  {
   "cell_type": "code",
   "execution_count": 3,
   "id": "9e977cae",
   "metadata": {
    "scrolled": true
   },
   "outputs": [
    {
     "name": "stdout",
     "output_type": "stream",
     "text": [
      "47152\n",
      "107\n",
      "107\n"
     ]
    },
    {
     "name": "stderr",
     "output_type": "stream",
     "text": [
      "c:\\users\\david\\anaconda3\\envs\\graphenv\\lib\\site-packages\\numpy\\core\\_asarray.py:102: VisibleDeprecationWarning: Creating an ndarray from ragged nested sequences (which is a list-or-tuple of lists-or-tuples-or ndarrays with different lengths or shapes) is deprecated. If you meant to do this, you must specify 'dtype=object' when creating the ndarray.\n",
      "  return array(a, dtype, copy=False, order=order)\n"
     ]
    }
   ],
   "source": [
    "import argparse\n",
    "data = {}\n",
    "data['settings'] = argparse.Namespace()\n",
    "data['dict'] = {}\n",
    "data['dict']['src'] = get_dict_from_file('lyrl2004_tokens_train.dat')\n",
    "data['dict']['tgt'] = get_dict_from_label_file('rcv1-v2.topics.qrels')\n",
    "article_labels_dict = get_article_labels_dict('rcv1-v2.topics.qrels')\n",
    "# features\n",
    "train_features, train_labels = get_sequences_from_file('lyrl2004_tokens_train.dat', data['dict']['src'], article_labels_dict)\n",
    "test_features,test_labels = get_sequences_from_file('lyrl2004_tokens_test_pt0.dat', data['dict']['src'], article_labels_dict)\n",
    "\n",
    "\n",
    "\n",
    "# select random instances for validation\n",
    "\n",
    "valid_index = np.random.choice(len(train_features), int((len(train_features)+len(test_features))*0.1), replace=False)\n",
    "valid_from_src = np.array(train_features,dtype=object)[valid_index].tolist()\n",
    "valid_from_tgt = np.array(train_labels,dtype=object)[valid_index].tolist()\n",
    "train_features = np.delete(train_features,valid_index,0).tolist()\n",
    "train_labels = np.delete(train_labels,valid_index,0).tolist()\n",
    "\n",
    "data['train'] = {}\n",
    "data['train']['src'] = train_features\n",
    "data['train']['tgt'] = train_labels\n",
    "data['valid'] = {}\n",
    "data['valid']['src'] = valid_from_src\n",
    "data['valid']['tgt'] = valid_from_tgt\n",
    "data['test'] = {}\n",
    "data['test']['src'] = test_features\n",
    "data['test']['tgt'] = test_labels\n"
   ]
  },
  {
   "cell_type": "code",
   "execution_count": 4,
   "id": "a78e6fc3",
   "metadata": {},
   "outputs": [],
   "source": [
    "torch.save(data,'train_valid_test.pt')"
   ]
  },
  {
   "cell_type": "code",
   "execution_count": 79,
   "id": "5117a740",
   "metadata": {},
   "outputs": [
    {
     "data": {
      "text/plain": [
       "[[6, 7, 8, 9]]"
      ]
     },
     "execution_count": 79,
     "metadata": {},
     "output_type": "execute_result"
    }
   ],
   "source": [
    "import numpy as np\n",
    "def max_of_jagged(array):\n",
    "    max(max(array,key=max))\n",
    "temp = [[1,2],[3,4,5],[6,7,8,9]]\n",
    "temp = np.delete(temp,[0,1],0).tolist()\n",
    "temp"
   ]
  },
  {
   "cell_type": "code",
   "execution_count": 24,
   "id": "6408e7bc",
   "metadata": {},
   "outputs": [
    {
     "ename": "KeyError",
     "evalue": "'2286          \\n'",
     "output_type": "error",
     "traceback": [
      "\u001b[1;31m---------------------------------------------------------------------------\u001b[0m",
      "\u001b[1;31mKeyError\u001b[0m                                  Traceback (most recent call last)",
      "\u001b[1;32m<ipython-input-24-15d7f502c765>\u001b[0m in \u001b[0;36m<module>\u001b[1;34m()\u001b[0m\n\u001b[1;32m----> 1\u001b[1;33m \u001b[0marticle_labels\u001b[0m\u001b[1;33m[\u001b[0m\u001b[1;34m'2286          \\n'\u001b[0m\u001b[1;33m]\u001b[0m\u001b[1;33m\u001b[0m\u001b[0m\n\u001b[0m",
      "\u001b[1;31mKeyError\u001b[0m: '2286          \\n'"
     ]
    }
   ],
   "source": [
    "article_labels['2286          \\n']"
   ]
  },
  {
   "cell_type": "code",
   "execution_count": null,
   "id": "fa996b9c",
   "metadata": {},
   "outputs": [],
   "source": []
  }
 ],
 "metadata": {
  "kernelspec": {
   "display_name": "Python 3",
   "language": "python",
   "name": "python3"
  },
  "language_info": {
   "codemirror_mode": {
    "name": "ipython",
    "version": 3
   },
   "file_extension": ".py",
   "mimetype": "text/x-python",
   "name": "python",
   "nbconvert_exporter": "python",
   "pygments_lexer": "ipython3",
   "version": "3.7.1"
  }
 },
 "nbformat": 4,
 "nbformat_minor": 5
}
