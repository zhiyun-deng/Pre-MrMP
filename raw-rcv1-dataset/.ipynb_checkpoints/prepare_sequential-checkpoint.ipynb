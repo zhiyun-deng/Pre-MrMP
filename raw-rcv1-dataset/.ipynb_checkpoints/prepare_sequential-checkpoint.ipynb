{
 "cells": [
  {
   "cell_type": "code",
   "execution_count": 7,
   "metadata": {},
   "outputs": [],
   "source": [
    "# Get the unique words in a rcv1 file as a dictionary; number those words\n",
    "def get_dict_from_file(filename):\n",
    "    f = open(filename,'r')\n",
    "    line_num = 0\n",
    "    article_num = 0\n",
    "    word_num = 0\n",
    "    words = {}\n",
    "    for line in f:\n",
    "        if(line[0]!='.'): # the last line is 171541\n",
    "            for word in line.split():\n",
    "                if word not in words:\n",
    "                    words[word] = word_num\n",
    "                    word_num+=1\n",
    "        line_num+=1\n",
    "    print(len(words))\n",
    "    return words\n",
    "# Get the unique labels from the rcv1 raw label file as dictionary; number those labels\n",
    "def get_dict_from_label_file(filename):\n",
    "    f = open(filename,'r')\n",
    "    word_num = 0\n",
    "    words = {}\n",
    "    for line in f:\n",
    "        label = line.split()[0]\n",
    "        if label not in words:\n",
    "            words[label] = word_num\n",
    "            word_num+=1\n",
    "    print(len(words))\n",
    "    return words\n",
    "# rcv1 dataset has numbered articles. The goal is to have a dictionary where the key is the article\n",
    "# number and the value is a list of label numbers for that article\n",
    "def get_article_labels_dict(filename):\n",
    "    article_labels = {}\n",
    "    f = open(filename,'r')\n",
    "    num_of_label = get_dict_from_label_file(filename)\n",
    "    for line in f:\n",
    "        label = line.split()[0]\n",
    "        article_num = line.split()[1]\n",
    "        if article_num not in article_labels:\n",
    "            article_labels[article_num] = [num_of_label[label]]\n",
    "        else:\n",
    "            article_labels[article_num].append(num_of_label[label])\n",
    "    return article_labels\n",
    "    \n",
    "    "
   ]
  },
  {
   "cell_type": "code",
   "execution_count": 39,
   "metadata": {},
   "outputs": [],
   "source": [
    "# creates the sequence, which is a list containing sublists, one sublist for each article.\n",
    "# Each sublist contains a sequence of words, using numbers corresponding to their dictionary value\n",
    "# as specified by the dictionary \"words\". Both feature sequence and label sequence are returned\n",
    "def get_sequences_from_file(filename, words,article_labels_dict):\n",
    "    article_num = -1\n",
    "    feature_sequence = []\n",
    "    label_sequence\n",
    "    current = []\n",
    "    \n",
    "    f = open(filename,'r')\n",
    "    for line in f:\n",
    "        if line[0:2] == \".I\": # each article will begin with \".I 2286\\n\", where 2286 is the article num\n",
    "            article_num += 1\n",
    "            label_sequence.append(article_labels_dict[line[3:].strip()])\n",
    "            if (article_num!=0):\n",
    "                feature_sequence.append(current)\n",
    "                current = []\n",
    "        elif (line[0]!='.'): # the last line is 171541\n",
    "            for word in line.split():\n",
    "                current.append(words[word])\n",
    "        line_num+=1\n",
    "    feature_sequence.append(current)\n",
    "    return feature_sequence, label_sequence\n"
   ]
  },
  {
   "cell_type": "code",
   "execution_count": 36,
   "metadata": {},
   "outputs": [],
   "source": [
    "import argparse\n",
    "data = {}\n",
    "data['settings'] = argparse.Namespace()\n",
    "data['dict'] = {}\n",
    "data['dict']['src'] = get_dict_from_file('lyrl2004_tokens_train.dat')\n",
    "# features\n",
    "train_sequence = get_feature_sequence_from_file('lyrl2004_tokens_train.dat', data['dict']['src'])\n",
    "test_sequence = get_feature_sequence_from_file('lyrl2004_tokens_test_pt0.dat', data['dict']['src'])\n",
    "# labels\n",
    "\n",
    "\n",
    "# select random instances for validation\n",
    "valid_index = np.random.choice(len(train_sequence), int((len(train_sequence)+len(test_sequence))*0.1), replace=False)\n",
    "valid_from_src = np.array(train_sequence,dtype=object)[valid_index].tolist()\n",
    "valid_from_tgt = np.array(tgt_as_seq,dtype=object)[valid_index].tolist()\n"
   ]
  },
  {
   "cell_type": "code",
   "execution_count": 20,
   "metadata": {},
   "outputs": [],
   "source": [
    "\n"
   ]
  },
  {
   "cell_type": "code",
   "execution_count": 24,
   "metadata": {},
   "outputs": [
    {
     "ename": "KeyError",
     "evalue": "'2286          \\n'",
     "output_type": "error",
     "traceback": [
      "\u001b[1;31m---------------------------------------------------------------------------\u001b[0m",
      "\u001b[1;31mKeyError\u001b[0m                                  Traceback (most recent call last)",
      "\u001b[1;32m<ipython-input-24-15d7f502c765>\u001b[0m in \u001b[0;36m<module>\u001b[1;34m()\u001b[0m\n\u001b[1;32m----> 1\u001b[1;33m \u001b[0marticle_labels\u001b[0m\u001b[1;33m[\u001b[0m\u001b[1;34m'2286          \\n'\u001b[0m\u001b[1;33m]\u001b[0m\u001b[1;33m\u001b[0m\u001b[0m\n\u001b[0m",
      "\u001b[1;31mKeyError\u001b[0m: '2286          \\n'"
     ]
    }
   ],
   "source": [
    "article_labels['2286          \\n']"
   ]
  },
  {
   "cell_type": "code",
   "execution_count": null,
   "metadata": {},
   "outputs": [],
   "source": []
  }
 ],
 "metadata": {
  "kernelspec": {
   "display_name": "Python 3",
   "language": "python",
   "name": "python3"
  },
  "language_info": {
   "codemirror_mode": {
    "name": "ipython",
    "version": 3
   },
   "file_extension": ".py",
   "mimetype": "text/x-python",
   "name": "python",
   "nbconvert_exporter": "python",
   "pygments_lexer": "ipython3",
   "version": "3.6.5"
  }
 },
 "nbformat": 4,
 "nbformat_minor": 5
}
