{
 "cells": [
  {
   "cell_type": "code",
   "execution_count": 1,
   "metadata": {},
   "outputs": [],
   "source": [
    "import numpy as np\n",
    "from scipy.stats import chi2_contingency\n",
    "import statsmodels.stats.multitest as multitest\n",
    "import matplotlib.pyplot as plt\n",
    "\n",
    "# This code below would perform false discovery rate correction to the label-label dependency p_value matrix\n",
    "def fdr_correct(p_value):\n",
    "  p_value_array = p_value[np.tril_indices(len(p_value))]\n",
    "  corrected_p_value = multitest.multipletests(p_value_array,0.01,method='fdr_bh')[1]\n",
    "  inds = np.tril_indices(len(p_value))\n",
    "  p_value[inds] = corrected_p_value\n",
    "  inds = np.triu_indices(len(p_value))\n",
    "  p_value[inds] = corrected_p_value[::-1]\n",
    "###\n",
    "\n",
    "def get_label_depend_p_value(y,alpha, is_fdr_correct=True):\n",
    "  count_11 = np.matmul(y.transpose(), y) #Aij is sum of 11 of label i and label j\n",
    "  count_10 = np.matmul(y.transpose(), 1 - y) \n",
    "  count_01 = np.matmul(1 - y.transpose(), y)\n",
    "  count_00 = np.matmul(1 - y.transpose(), 1 - y)\n",
    "\n",
    "  # chi2 testing on pairwise dependencies\n",
    "  num_vars = y.shape[1] # num labels\n",
    "  p_value = np.ones([num_vars,num_vars])\n",
    "  for i in range(num_vars):\n",
    "      for j in range(num_vars):\n",
    "          \n",
    "          c = np.array([[count_11[i, j], count_10[i, j]], [count_01[i, j], count_00[i, j]]])\n",
    "          \n",
    "          if (np.sum(c, 0) > 0).all() and (np.sum(c, 1) > 0).all():\n",
    "              _, p_value[i, j], _, _ = chi2_contingency(c)\n",
    "          else:\n",
    "              p_value[i,j] = 1\n",
    "          if(i==50 and j==50):\n",
    "            print(c)\n",
    "\n",
    "  uncorrected_p_value = p_value.copy()\n",
    "  if(is_fdr_correct):\n",
    "    fdr_correct(p_value)\n",
    "  skeleton = 1*(p_value <= alpha)\n",
    "\n",
    "  return uncorrected_p_value, p_value,skeleton\n",
    "\n",
    "def _calc_prob(y):\n",
    "  marginal_1 = np.sum(y, 0)/len(y) # vector containing probability a given label is 1\n",
    "  marginal_0 = 1-marginal_1\n",
    "  joint_11 = np.matmul(y.transpose(), y)/len(y) # matrix prob that 11 occurs in ith, jth position in a given row\n",
    "  joint_01 = np.matmul(1-y.transpose(), y)/len(y)\n",
    "  joint_10 = np.matmul(y.transpose(), 1-y)/len(y)\n",
    "  joint_00 = np.matmul(1-y.transpose(), 1-y)/len(y)\n",
    "  conditional_11 = joint_11/marginal_1  # probability of dim=0 (row) given dim=1 (column)\n",
    "  conditional_01 = joint_01/marginal_1 \n",
    "  conditional_10 = joint_10/marginal_0\n",
    "  conditional_00 = joint_00/marginal_0\n",
    "  unscaled_11=np.matmul(y.transpose(), y)\n",
    "  unscaled_marginal_1 = np.sum(y, 0)\n",
    "  return {'marginal_1': marginal_1, 'marginal_0': marginal_0,\n",
    "          'joint_11': joint_11, 'conditional_11': conditional_11,\n",
    "          'joint_01': joint_01, 'conditional_01': conditional_01,\n",
    "          'joint_10': joint_10, 'conditional_10': conditional_10,\n",
    "          'joint_00': joint_00, 'conditional_00': conditional_00,\n",
    "          'unscaled_joint_11':unscaled_11,'unscaled_marginal_1':unscaled_marginal_1\n",
    "          }\n",
    "  \n",
    "class Dataset:\n",
    "  def __init__(self, y, alpha, is_fdr_correct=True):\n",
    "    self.y = y\n",
    "    self.uncorrected_p_value, self.p_value, self.skeleton = get_label_depend_p_value(y,alpha,is_fdr_correct)\n",
    "    p = _calc_prob(y)\n",
    "    self.marginal = p['marginal_1']\n",
    "    self.conditional = p['conditional_11'] # the chi2 test tells us whether the difference between conditional and marginal is significant\n",
    "    self.pulling = self.skeleton * (self.conditional > self.marginal[:, None]) # matrix, where each element is 1 if the presence if ith label increases chance of jth label AND chi2 test satisfied\n",
    "    self.pushing = self.skeleton * (self.conditional < self.marginal[:, None])\n",
    "    self.pushing_to_pulling_ratio = np.count_nonzero(self.pushing)/np.count_nonzero(self.pulling)\n",
    "    self.alpha = alpha\n",
    "    self.num_vars = self.y.shape[1]\n",
    "\n",
    "\n",
    "\n",
    "  def plot_dependency_strength(self,relation,fig_dir=None):\n",
    "    plt.figure(figsize=(8,8),dpi=320)\n",
    "    if (relation=='pulling'):\n",
    "      plt.matshow(self.pulling * (np.divide(self.conditional - self.marginal[:, None],self.marginal[:, None])),fignum=0,vmax=10), plt.colorbar()\n",
    "    if (relation=='pushing'):\n",
    "      plt.matshow(self.pushing * (np.divide(self.conditional - self.marginal[:, None],self.marginal[:, None])),fignum=0,vmax=1), plt.colorbar()\n",
    "    plt.xlabel('strength of ' + ' ' +relation)\n",
    "    \n",
    "    if (fig_dir):\n",
    "      plt.savefig(fig_dir)\n",
    "    plt.clf()\n",
    "  def plot_instance_label_matrix(self,fig_dir=None):\n",
    "    plt.figure(figsize=(12,8))\n",
    "    plt.spy(self.y,aspect='auto')\n",
    "    if (fig_dir):\n",
    "      plt.savefig(fig_dir)\n",
    "    plt.clf()\n",
    "  def plot_ratio_of_dependent_pairs(self, relation,fig_dir=None):\n",
    "    overall_ratio = []\n",
    "    pulling_ratio = []\n",
    "    pushing_ratio = []\n",
    "    plot_x = np.linspace(0.002,0.9,50)\n",
    "    num_vars = self.y.shape[1]\n",
    "    for num in plot_x:\n",
    "\n",
    "      overall_ratio.append((np.count_nonzero(self.p_value<num)-num_vars)/(self.p_value.size-num_vars))\n",
    "      pulling_ratio.append((np.count_nonzero(np.logical_and(self.p_value<num,self.conditional > self.marginal[:, None]))-num_vars)/(self.p_value.size-num_vars))\n",
    "      pushing_ratio.append((np.count_nonzero(np.logical_and(self.p_value<num,self.conditional < self.marginal[:, None]))-num_vars)/(self.p_value.size-num_vars))\n",
    "\n",
    "    if (relation=='pulling'):\n",
    "      plt.plot(plot_x,pulling_ratio)\n",
    "      plt.xlabel('alpha')\n",
    "      plt.ylabel('ratio of dependent labels [pulling]')\n",
    "    if (relation=='pushing'):\n",
    "      plt.plot(plot_x,pushing_ratio)\n",
    "      plt.xlabel('alpha')\n",
    "      plt.ylabel('ratio of dependent labels [pushing]')\n",
    "    if (relation=='overall'):\n",
    "      plt.plot(plot_x,overall_ratio)\n",
    "      plt.xlabel('alpha')\n",
    "      plt.ylabel('ratio of dependent labels [overall]')\n",
    "    \n",
    "    if (fig_dir):\n",
    "      plt.savefig(fig_dir)\n",
    "    plt.clf()\n",
    "  def print_stats(self): \n",
    "    num_depend = np.count_nonzero(np.logical_and(self.p_value<self.alpha,np.tril(self.p_value,-1)))\n",
    "    uncorrected_num_depend = np.count_nonzero(np.logical_and(self.uncorrected_p_value<self.alpha,np.tril(self.p_value,-1)))\n",
    "    cardinality = np.mean(np.sum(self.y,1))\n",
    "    print('Label cardinality: ' + str(cardinality))\n",
    "    print('Label density: ' + str(cardinality/self.num_vars))\n",
    "    print('Number of dependent pairs less than alpha: ' + str(num_depend))\n",
    "    print('Proportion of dependent pairs less than alpha: ' + str(num_depend/(self.p_value.size-self.num_vars)*2))\n",
    "    print('Proportion of dependent pairs less than alpha using uncorrected p-values: ' + str(uncorrected_num_depend/(self.p_value.size-self.num_vars)*2))\n",
    "    print('Pushing to Pulling ratio: '+ str(self.pushing_to_pulling_ratio))\n",
    "\n"
   ]
  },
  {
   "cell_type": "code",
   "execution_count": 2,
   "metadata": {},
   "outputs": [],
   "source": [
    "import arff\n",
    "\n",
    "from scipy import sparse\n",
    "decoder = arff.ArffDecoder()\n",
    "d = decoder.decode(open('enron-train.arff', 'r'), encode_nominal=True, return_type=arff.COO)\n",
    "data = d['data'][0]\n",
    "row = d['data'][1]\n",
    "col = d['data'][2]\n",
    "matrix = sparse.coo_matrix((data, (row, col)), shape=(max(row)+1, max(col)+1))\n",
    "y = matrix.A[:,1001:]"
   ]
  },
  {
   "cell_type": "code",
   "execution_count": 3,
   "metadata": {},
   "outputs": [
    {
     "name": "stdout",
     "output_type": "stream",
     "text": [
      "[[  15    0]\n",
      " [   0 1108]]\n"
     ]
    },
    {
     "name": "stderr",
     "output_type": "stream",
     "text": [
      "c:\\users\\david\\anaconda3\\envs\\graphenv\\lib\\site-packages\\ipykernel_launcher.py:51: RuntimeWarning: invalid value encountered in true_divide\n",
      "c:\\users\\david\\anaconda3\\envs\\graphenv\\lib\\site-packages\\ipykernel_launcher.py:52: RuntimeWarning: invalid value encountered in true_divide\n",
      "c:\\users\\david\\anaconda3\\envs\\graphenv\\lib\\site-packages\\ipykernel_launcher.py:83: RuntimeWarning: invalid value encountered in true_divide\n",
      "c:\\users\\david\\anaconda3\\envs\\graphenv\\lib\\site-packages\\ipykernel_launcher.py:85: RuntimeWarning: invalid value encountered in true_divide\n"
     ]
    },
    {
     "name": "stdout",
     "output_type": "stream",
     "text": [
      "Label cardinality: 3.3864648263579697\n",
      "Label density: 0.06389556276147113\n",
      "Number of dependent pairs less than alpha: 220\n",
      "Proportion of dependent pairs less than alpha: 0.15965166908563136\n",
      "Proportion of dependent pairs less than alpha using uncorrected p-values: 0.23947750362844702\n",
      "Pushing to Pulling ratio: 1.6703296703296704\n"
     ]
    },
    {
     "data": {
      "text/plain": [
       "<Figure size 2560x2560 with 0 Axes>"
      ]
     },
     "metadata": {},
     "output_type": "display_data"
    },
    {
     "data": {
      "text/plain": [
       "<Figure size 2560x2560 with 0 Axes>"
      ]
     },
     "metadata": {},
     "output_type": "display_data"
    },
    {
     "data": {
      "text/plain": [
       "<Figure size 864x576 with 0 Axes>"
      ]
     },
     "metadata": {},
     "output_type": "display_data"
    }
   ],
   "source": [
    "data1 = Dataset(y,0.05,is_fdr_correct=True)\n",
    "data1.plot_dependency_strength('pulling','enron_pulling.pdf')\n",
    "data1.plot_dependency_strength('pushing','enron_pushing.pdf')\n",
    "data1.plot_instance_label_matrix('enron_instance_label.pdf')\n",
    "data1.plot_ratio_of_dependent_pairs('pulling','enron_pulling_alpha.pdf')\n",
    "data1.plot_ratio_of_dependent_pairs('pushing','enron_pushing_alpha.pdf')\n",
    "data1.plot_ratio_of_dependent_pairs('overall','enron_overall_alpha.pdf')\n",
    "data1.print_stats()"
   ]
  },
  {
   "cell_type": "code",
   "execution_count": null,
   "metadata": {},
   "outputs": [],
   "source": []
  }
 ],
 "metadata": {
  "kernelspec": {
   "display_name": "Python 3",
   "language": "python",
   "name": "python3"
  },
  "language_info": {
   "codemirror_mode": {
    "name": "ipython",
    "version": 3
   },
   "file_extension": ".py",
   "mimetype": "text/x-python",
   "name": "python",
   "nbconvert_exporter": "python",
   "pygments_lexer": "ipython3",
   "version": "3.7.1"
  }
 },
 "nbformat": 4,
 "nbformat_minor": 2
}
