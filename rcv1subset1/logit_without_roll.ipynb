{
 "cells": [
  {
   "cell_type": "code",
   "execution_count": 30,
   "id": "7d34c569",
   "metadata": {},
   "outputs": [],
   "source": [
    "import arff\n",
    "import numpy as np\n",
    "from scipy import sparse\n",
    "decoder = arff.ArffDecoder()\n",
    "d = decoder.decode(open('rcv1subset1-train.arff', 'r'), encode_nominal=True, return_type=arff.COO)\n",
    "data = d['data'][0]\n",
    "row = d['data'][1]\n",
    "col = d['data'][2]\n",
    "matrix = sparse.coo_matrix((data, (row, col)), shape=(max(row)+1, 47337)) # the COO format is also called the ijv format. \n",
    "d = decoder.decode(open('rcv1subset1-test.arff', 'r'), encode_nominal=True, return_type=arff.COO)\n",
    "data = d['data'][0]\n",
    "row = d['data'][1]\n",
    "col = d['data'][2]\n",
    "test_matrix = sparse.coo_matrix((data, (row, col)), shape=(max(row)+1, 47337)) # for the test set, the last column is blank, so we cannot simply infer size from maximum column index"
   ]
  },
  {
   "cell_type": "code",
   "execution_count": 65,
   "id": "cda24d76",
   "metadata": {},
   "outputs": [
    {
     "data": {
      "text/plain": [
       "array([1., 1., 1., 1., 1., 1., 1., 1., 1., 1., 1., 1., 1., 1., 1., 1., 1.,\n",
       "       1., 1., 1., 1., 1., 1., 1., 1., 1., 1., 1., 1., 1., 1., 1., 1., 1.,\n",
       "       1., 1., 1., 1., 1., 1., 1., 1., 1., 1., 1., 1., 1., 1., 1., 1., 1.,\n",
       "       1., 1., 1., 1., 1., 1., 1., 1., 1., 1., 1., 1., 1., 1., 1., 1., 1.,\n",
       "       1., 1., 1., 1., 1., 1., 1., 1., 1., 1., 1., 1., 1., 1., 1., 1., 1.,\n",
       "       1., 1., 1., 1., 1., 1., 1.])"
      ]
     },
     "execution_count": 65,
     "metadata": {},
     "output_type": "execute_result"
    }
   ],
   "source": [
    "np.array(data)[np.where(np.array(col)==47235)]"
   ]
  },
  {
   "cell_type": "code",
   "execution_count": 66,
   "id": "d933c8c4",
   "metadata": {},
   "outputs": [
    {
     "name": "stdout",
     "output_type": "stream",
     "text": [
      "[1. 1. 1. 1. 1. 1. 1. 1. 1. 1. 1. 1. 1. 1. 1. 1. 1. 1. 1. 1. 1. 1. 1. 1.\n",
      " 1. 1. 1. 1. 1. 1. 1. 1. 1. 1. 1. 1. 1. 1. 1. 1. 1. 1. 1. 1. 1. 1. 1. 1.\n",
      " 1. 1. 1. 1. 1. 1. 1. 1. 1. 1. 1. 1. 1. 1. 1. 1. 1. 1. 1. 1. 1. 1. 1. 1.\n",
      " 1. 1. 1. 1. 1. 1. 1. 1. 1. 1. 1. 1. 1. 1. 1. 1. 1. 1. 1. 1.]\n",
      "37.51560539795067\n",
      "0.7089360551574961\n",
      "0.29977172251443707\n",
      "0.42033333333333334\n",
      "0.01421122112211221\n"
     ]
    },
    {
     "name": "stderr",
     "output_type": "stream",
     "text": [
      "c:\\users\\david\\anaconda3\\envs\\graphenv\\lib\\site-packages\\sklearn\\metrics\\_classification.py:1496: UndefinedMetricWarning: F-score is ill-defined and being set to 0.0 in labels with no true nor predicted samples. Use `zero_division` parameter to control this behavior.\n",
      "  average, \"true nor predicted\", 'F-score is', len(true_sum)\n"
     ]
    }
   ],
   "source": [
    "from sklearn.multioutput import MultiOutputRegressor\n",
    "from sklearn.metrics import hamming_loss, accuracy_score, f1_score, log_loss\n",
    "from sklearn.linear_model import LogisticRegression\n",
    "from sklearn.decomposition import TruncatedSVD\n",
    "\n",
    "use_svd = True\n",
    "\n",
    "logit = LogisticRegression()\n",
    "features=matrix.A[:,0:47236]\n",
    "labels = matrix.A[:,47236:]\n",
    "print(test_matrix.A[:,47235][np.nonzero(test_matrix.A[:,47235])])\n",
    "features[np.nonzero(features)] = 1 # turn feature vector to binary\n",
    "features = features.astype(np.int32)\n",
    "labels = labels.astype(np.int32)\n",
    "test_features=test_matrix.A[:,0:47236]\n",
    "test_labels = test_matrix.A[:,47235:-1] # this is the problem. column 47235 is actually already labels for some reason \n",
    "test_features[np.nonzero(test_features)] = 1\n",
    "test_features = test_features.astype(np.int32)\n",
    "test_labels = test_labels.astype(np.int32)\n",
    "\n",
    "if(use_svd):\n",
    "    svd = TruncatedSVD(500)\n",
    "    features = svd.fit_transform(features)\n",
    "    test_features = svd.transform(test_features)\n",
    "clf = MultiOutputRegressor(logit).fit(features, labels)\n",
    "prediction = clf.predict(test_features)\n",
    "#prediction = np.roll(prediction,-1,axis=1)\n",
    "print(log_loss(test_labels,prediction))\n",
    "print(f1_score(test_labels,prediction,average='micro'))\n",
    "print(f1_score(test_labels,prediction,average='macro'))\n",
    "print(accuracy_score(test_labels,prediction))\n",
    "print(hamming_loss(test_labels,prediction))\n"
   ]
  },
  {
   "cell_type": "code",
   "execution_count": 15,
   "id": "a81efdb7",
   "metadata": {},
   "outputs": [
    {
     "name": "stdout",
     "output_type": "stream",
     "text": [
      "[ 50  26  28  65  36  38  39  40  41  42  43  75  47  48  49  69  56  57\n",
      "  68  61  62  63  25  24  77  66   8  82  12  13  81  80  16  17  84  85\n",
      "  88  92  54  37  67  20  23  52  86  19  55  91   3  78  76  29  90  72\n",
      "  74  34  32  64  27  58  31  30  53   1  79  51  18   0   6  11 100  10\n",
      "  45  35  60  21  22  46  89  71   2  73  94   9  15  96  97  44  87  83\n",
      "  14  99   7  93   5  95  98  59   4  70  33]\n",
      "[100  48  79  68  41  49  76  40  24  56  38  87  42  65  80  39  47  27\n",
      "  35  66  55  62  53  64  46  19  91  25  11  51   7  84  81  61  67  60\n",
      "  28  12  22  83  23  15  74  37  85  18  57  36  90  77  33  89  63   2\n",
      "  71  16  54  31  30  75  73  29  10  99   0   5  26  78  50   9  52  44\n",
      "  59  17  45  34  88  20  70  72  93  95  96  21   8  86   1  43  14  82\n",
      "  98  92  13   6  94   4  97  58   3  69  32]\n"
     ]
    },
    {
     "data": {
      "image/png": "[encoded data removed]",
      "text/plain": [
       "<Figure size 432x288 with 2 Axes>"
      ]
     },
     "metadata": {
      "needs_background": "light"
     },
     "output_type": "display_data"
    }
   ],
   "source": [
    "import matplotlib.pyplot as plt\n",
    "plt.subplot(211)\n",
    "plt.spy(test_labels,aspect='auto')\n",
    "plt.subplot(212)\n",
    "plt.spy(prediction,aspect='auto')\n",
    "np.count_nonzero(test_labels)\n",
    "print(np.argsort(np.sum(prediction,0)))\n",
    "print(np.argsort(np.sum(test_labels,0)))"
   ]
  },
  {
   "cell_type": "code",
   "execution_count": 37,
   "id": "88dfec89",
   "metadata": {},
   "outputs": [
    {
     "data": {
      "text/plain": [
       "1"
      ]
     },
     "execution_count": 37,
     "metadata": {},
     "output_type": "execute_result"
    }
   ],
   "source": [
    "min(col)"
   ]
  },
  {
   "cell_type": "code",
   "execution_count": null,
   "id": "345fd49a",
   "metadata": {},
   "outputs": [],
   "source": []
  }
 ],
 "metadata": {
  "kernelspec": {
   "display_name": "Python 3",
   "language": "python",
   "name": "python3"
  },
  "language_info": {
   "codemirror_mode": {
    "name": "ipython",
    "version": 3
   },
   "file_extension": ".py",
   "mimetype": "text/x-python",
   "name": "python",
   "nbconvert_exporter": "python",
   "pygments_lexer": "ipython3",
   "version": "3.7.1"
  }
 },
 "nbformat": 4,
 "nbformat_minor": 5
}
