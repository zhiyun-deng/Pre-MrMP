{
 "cells": [
  {
   "cell_type": "code",
   "execution_count": 1,
   "id": "1da77978",
   "metadata": {},
   "outputs": [],
   "source": [
    "import arff\n",
    "import numpy as np\n",
    "from scipy import sparse\n",
    "decoder = arff.ArffDecoder()\n",
    "d = decoder.decode(open('rcv1subset1-train.arff', 'r'), encode_nominal=True, return_type=arff.COO)\n",
    "data = d['data'][0]\n",
    "row = d['data'][1]\n",
    "col = d['data'][2]\n",
    "matrix = sparse.coo_matrix((data, (row, col)), shape=(max(row)+1, 47337)) # the COO format is also called the ijv format. \n",
    "d = decoder.decode(open('rcv1subset1-test.arff', 'r'), encode_nominal=True, return_type=arff.COO)\n",
    "data = d['data'][0]\n",
    "row = d['data'][1]\n",
    "col = d['data'][2]\n",
    "test_matrix = sparse.coo_matrix((data, (row, col)), shape=(max(row)+1, 47337)) # for the test set, the last column is blank, so we cannot simply infer size from maximum column index"
   ]
  },
  {
   "cell_type": "code",
   "execution_count": 2,
   "id": "9fe81b78",
   "metadata": {},
   "outputs": [
    {
     "data": {
      "text/plain": [
       "15635"
      ]
     },
     "execution_count": 2,
     "metadata": {},
     "output_type": "execute_result"
    }
   ],
   "source": [
    "len(np.unique(col))"
   ]
  },
  {
   "cell_type": "code",
   "execution_count": 3,
   "id": "d1e23ab0",
   "metadata": {},
   "outputs": [
    {
     "name": "stdout",
     "output_type": "stream",
     "text": [
      "48.756616318348755\n",
      "Micro f1: 0.49408537630721755\n",
      "Macro f1: 0.08370811123068043\n"
     ]
    },
    {
     "name": "stderr",
     "output_type": "stream",
     "text": [
      "c:\\users\\david\\anaconda3\\envs\\graphenv\\lib\\site-packages\\sklearn\\metrics\\_classification.py:1496: UndefinedMetricWarning: F-score is ill-defined and being set to 0.0 in labels with no true nor predicted samples. Use `zero_division` parameter to control this behavior.\n",
      "  average, \"true nor predicted\", 'F-score is', len(true_sum)\n",
      "c:\\users\\david\\anaconda3\\envs\\graphenv\\lib\\site-packages\\sklearn\\metrics\\_classification.py:1496: UndefinedMetricWarning: F-score is ill-defined and being set to 0.0 in labels with no true nor predicted samples. Use `zero_division` parameter to control this behavior.\n",
      "  average, \"true nor predicted\", 'F-score is', len(true_sum)\n"
     ]
    },
    {
     "name": "stdout",
     "output_type": "stream",
     "text": [
      "Weighted f1: 0.4036055092415136\n",
      "Sample f1: 0.4596756613756614\n",
      "Accuracy: 0.16\n",
      "Hamming Loss: 0.019478547854785477\n"
     ]
    }
   ],
   "source": [
    "from sklearn.multioutput import MultiOutputRegressor\n",
    "from sklearn.metrics import hamming_loss, accuracy_score, f1_score, log_loss\n",
    "from sklearn.linear_model import LogisticRegression\n",
    "from sklearn.decomposition import TruncatedSVD\n",
    "\n",
    "use_svd = True\n",
    "\n",
    "logit = LogisticRegression()\n",
    "features = matrix.tocsr()[:,0:47236].A\n",
    "labels = matrix.tocsr()[:,47236:].A # exclude the last label because it does not appear in test set\n",
    "test_features = test_matrix.tocsr()[:,0:47236].A\n",
    "# exclude the last label because it does not appear in test set, also include 47235 because \n",
    "# test dataset from rcv1 subset 1 from Mulan has 47235 as a label (i.e. Mulan test file has one feature missing)\n",
    "test_labels = test_matrix.tocsr()[:,47235:-1].A\n",
    "\n",
    "if(use_svd):\n",
    "    svd = TruncatedSVD(50)\n",
    "    features = svd.fit_transform(features)\n",
    "    test_features = svd.transform(test_features)\n",
    "clf = MultiOutputRegressor(logit).fit(features, labels)\n",
    "prediction = clf.predict(test_features)\n",
    "\n",
    "print(log_loss(test_labels,prediction))\n",
    "print('Micro f1: '+str(f1_score(test_labels,prediction,average='micro')))\n",
    "print('Macro f1: '+str(f1_score(test_labels,prediction,average='macro')))\n",
    "print('Weighted f1: '+str(f1_score(test_labels,prediction,average='weighted')))\n",
    "print('Sample f1: '+str(f1_score(test_labels,prediction,average='samples')))\n",
    "print('Accuracy: '+str(accuracy_score(test_labels,prediction)))\n",
    "print('Hamming Loss: '+str(hamming_loss(test_labels,prediction)))\n"
   ]
  },
  {
   "cell_type": "code",
   "execution_count": 5,
   "id": "2089633e",
   "metadata": {},
   "outputs": [
    {
     "data": {
      "text/plain": [
       "(3000, 50)"
      ]
     },
     "execution_count": 5,
     "metadata": {},
     "output_type": "execute_result"
    }
   ],
   "source": [
    "features.shape"
   ]
  },
  {
   "cell_type": "code",
   "execution_count": 106,
   "id": "3ebb9f2e",
   "metadata": {},
   "outputs": [
    {
     "name": "stdout",
     "output_type": "stream",
     "text": [
      "[  0  64  63  62  61  60  57  56  65  55  53  52  51  49  48  47  46  54\n",
      "  66  67  68  91  90  89  87  85  84  83  81  80  79  78  77  76  75  74\n",
      "  73  71  42  41  50  39  22  21  20  19  18  40  17  16  15  14  13  12\n",
      "  11   9   7   2   1  23  24 100  26  35  34  25  33  36  31  29  28  27\n",
      "  38  30  37  44  59  72   5  70  10  88  99  93   8  86   6  82  45  95\n",
      "  96  43  92  98  94  58   4  97   3  69  32]\n",
      "[100  48  79  68  41  49  76  40  24  56  38  87  42  65  80  39  47  27\n",
      "  35  66  55  62  53  64  46  19  91  25  11  51   7  84  81  61  67  60\n",
      "  28  12  22  83  23  15  74  37  85  18  57  36  90  77  33  89  63   2\n",
      "  71  16  54  31  30  75  73  29  10  99   0   5  26  78  50   9  52  44\n",
      "  59  17  45  34  88  20  70  72  93  95  96  21   8  86   1  43  14  82\n",
      "  98  92  13   6  94   4  97  58   3  69  32]\n"
     ]
    },
    {
     "data": {
      "image/png": "[encoded data removed]",
      "text/plain": [
       "<Figure size 432x288 with 2 Axes>"
      ]
     },
     "metadata": {
      "needs_background": "light"
     },
     "output_type": "display_data"
    }
   ],
   "source": [
    "import matplotlib.pyplot as plt\n",
    "plt.subplot(211)\n",
    "plt.spy(test_labels,aspect='auto')\n",
    "plt.subplot(212)\n",
    "plt.spy(prediction,aspect='auto')\n",
    "np.count_nonzero(test_labels)\n",
    "print(np.argsort(np.sum(prediction,0)))\n",
    "print(np.argsort(np.sum(test_labels,0)))"
   ]
  },
  {
   "cell_type": "code",
   "execution_count": 117,
   "id": "c5a99883",
   "metadata": {},
   "outputs": [
    {
     "data": {
      "text/plain": [
       "0"
      ]
     },
     "execution_count": 117,
     "metadata": {},
     "output_type": "execute_result"
    }
   ],
   "source": [
    "np.count_nonzero(test_matrix.tocsr()[:,47336].A)"
   ]
  },
  {
   "cell_type": "code",
   "execution_count": 118,
   "id": "fd3eeac6",
   "metadata": {},
   "outputs": [
    {
     "data": {
      "text/plain": [
       "(3000, 101)"
      ]
     },
     "execution_count": 118,
     "metadata": {},
     "output_type": "execute_result"
    }
   ],
   "source": [
    "labels.shape"
   ]
  },
  {
   "cell_type": "code",
   "execution_count": 13,
   "id": "d945916e",
   "metadata": {},
   "outputs": [
    {
     "data": {
      "text/plain": [
       "array([0., 0., 0., ..., 0., 0., 0.])"
      ]
     },
     "execution_count": 13,
     "metadata": {},
     "output_type": "execute_result"
    }
   ],
   "source": [
    "matrix.tocsr()[:,0:47236].A[0]"
   ]
  },
  {
   "cell_type": "code",
   "execution_count": null,
   "id": "0c33e55c",
   "metadata": {},
   "outputs": [],
   "source": []
  }
 ],
 "metadata": {
  "kernelspec": {
   "display_name": "Python 3",
   "language": "python",
   "name": "python3"
  },
  "language_info": {
   "codemirror_mode": {
    "name": "ipython",
    "version": 3
   },
   "file_extension": ".py",
   "mimetype": "text/x-python",
   "name": "python",
   "nbconvert_exporter": "python",
   "pygments_lexer": "ipython3",
   "version": "3.7.1"
  }
 },
 "nbformat": 4,
 "nbformat_minor": 5
}
