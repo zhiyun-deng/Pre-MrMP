{
 "cells": [
  {
   "cell_type": "code",
   "execution_count": 39,
   "id": "21fe938a",
   "metadata": {},
   "outputs": [],
   "source": [
    "# given a compatible train_valid_test.pt, this script will perform the baseline by treating each powerset as a class. \n",
    "# We know that it would not be perfect because the program will not get to infer labels for powersets it has not seen. \n",
    "# We will count the number of examples with those specified datasets\n",
    "import Constants\n",
    "import torch\n",
    "import numpy as np\n",
    "from sklearn.naive_bayes import MultinomialNB\n",
    "from sklearn.svm import LinearSVC\n",
    "from sklearn.metrics import f1_score, confusion_matrix\n",
    "\n",
    "def convert_tgt_seq_to_binary(data):\n",
    "    def seq2binary(tgt_seq, num_labels, constants_values):\n",
    "        tgt_binary = list()\n",
    "        for i in range(len(tgt_seq)):\n",
    "            y = np.zeros(num_labels)\n",
    "            y[tgt_seq[i]] = 1\n",
    "            y = np.delete(y, constants_values).astype(int)\n",
    "            tgt_binary.append(y)\n",
    "        return tgt_binary\n",
    "\n",
    "    constants_dict = {Constants.UNK_WORD: Constants.UNK, Constants.EOS_WORD: Constants.EOS,\n",
    "                        Constants.BOS_WORD: Constants.BOS, Constants.PAD_WORD: Constants.PAD}\n",
    "\n",
    "    data['train']['tgt_binary'] = seq2binary(data['train']['tgt'], len(data['dict']['tgt']), list(constants_dict.values()))\n",
    "    data['valid']['tgt_binary'] = seq2binary(data['valid']['tgt'], len(data['dict']['tgt']), list(constants_dict.values()))\n",
    "    data['test']['tgt_binary'] = seq2binary(data['test']['tgt'], len(data['dict']['tgt']), list(constants_dict.values()))\n",
    "\n",
    "    # update targets dictionary\n",
    "    dict_y = data['dict']['tgt'].copy()\n",
    "    for item in data['dict']['tgt']:\n",
    "        if item in constants_dict:\n",
    "            dict_y.pop(item)\n",
    "        else:\n",
    "            dict_y[item] = dict_y[item] - len(constants_dict)\n",
    "    data['dict']['tgt'] = dict_y\n",
    "\n",
    "    return data\n",
    "\n",
    "def vectorize_sequence(sequences,dimensions):\n",
    "    results=np.zeros((len(sequences),dimensions))\n",
    "    for i, sequence in enumerate(sequences):\n",
    "        results[i,sequence] = 1.\n",
    "    return results\n",
    "\n",
    "data = torch.load('train_valid_test.pt')\n",
    "data = convert_tgt_seq_to_binary(data)\n",
    "# get features\n",
    "x_train=vectorize_sequence(data['train']['src'],len(data['dict']['src']))\n",
    "x_test=vectorize_sequence(data['test']['src'],len(data['dict']['src']))\n",
    "# get target\n",
    "y_train=np.array(data['train']['tgt_binary'])\n",
    "y_test=np.array(data['test']['tgt_binary'])\n",
    "\n",
    "\n"
   ]
  },
  {
   "cell_type": "code",
   "execution_count": 32,
   "id": "4223c374",
   "metadata": {},
   "outputs": [
    {
     "data": {
      "text/plain": [
       "461"
      ]
     },
     "execution_count": 32,
     "metadata": {},
     "output_type": "execute_result"
    }
   ],
   "source": [
    "unq_rows, count = np.unique(y_train,axis=0, return_counts=1)\n",
    "len(unq_rows)"
   ]
  },
  {
   "cell_type": "code",
   "execution_count": 40,
   "id": "10a9f701",
   "metadata": {},
   "outputs": [
    {
     "name": "stdout",
     "output_type": "stream",
     "text": [
      "(2400, 47236)\n",
      "(2400, 101)\n"
     ]
    }
   ],
   "source": [
    "def partition(array):\n",
    "    return {tuple(row): i for i, row in enumerate(np.unique(array, axis=0))}\n",
    "unique_dict = partition(y_train)\n",
    "# change y_train to label power sets\n",
    "print(x_train.shape)\n",
    "print(y_train.shape)"
   ]
  },
  {
   "cell_type": "code",
   "execution_count": 42,
   "id": "eacac665",
   "metadata": {},
   "outputs": [
    {
     "name": "stdout",
     "output_type": "stream",
     "text": [
      "score on test: 0.30333333333333334\n",
      "score on train: 0.44416666666666665\n"
     ]
    }
   ],
   "source": [
    "\n",
    "binary_class = False\n",
    "if binary_class:\n",
    "    train_sc = []\n",
    "    test_sc = []\n",
    "    pred_train = np.zeros(y_train.shape)\n",
    "    pred_test = np.zeros(y_test.shape)\n",
    "    for i in range(101):\n",
    "        mnb = MultinomialNB().fit(x_train, y_train[:, i])\n",
    "        score_test = mnb.score(x_test, y_test[:,i])\n",
    "        score_train = mnb.score(x_train, y_train[:,i])\n",
    "        test_sc.append(score_test)\n",
    "        train_sc.append(score_train)\n",
    "        pred_train[:,i] = mnb.predict(x_train)\n",
    "        pred_test[:,i] = mnb.predict(x_test)\n",
    "        print(\"score on test: \" + str(score_test))\n",
    "        print(\"score on train: \"+ str(score_train))\n",
    "        print(\"f1 on test: \" + str(f1_score(y_test[:,i], pred_test[:,i])))\n",
    "        print(\"f1 on train: \" + str(f1_score(y_train[:,i], pred_train[:,i])))\n",
    "        print(confusion_matrix(y_test[:,i], pred_test[:,i]))\n",
    "        print(confusion_matrix(y_train[:,i], pred_train[:,i]))\n",
    "else:\n",
    "    # change y_train to label power sets\n",
    "    y_train_power = np.zeros(len(y_train))\n",
    "    y_test_power = np.zeros(len(y_test))\n",
    "    count = 0\n",
    "    for i in range(len(y_train)):\n",
    "        y_train_power[i] = unique_dict[tuple(y_train[i])]\n",
    "        if (tuple(y_test[i]) in unique_dict):\n",
    "            y_test_power[i] = unique_dict[tuple(y_test[i])]\n",
    "        else:\n",
    "            y_test_power[i] = 0\n",
    "            count+=1\n",
    "    mnb = MultinomialNB().fit(x_train, y_train_power)\n",
    "    power_pred_train = mnb.predict(x_train)\n",
    "    power_pred_test = mnb.predict(x_test)\n",
    "    score_test = mnb.score(x_test, y_test_power)\n",
    "    score_train = mnb.score(x_train, y_train_power)\n",
    "    print(\"score on test: \" + str(score_test))\n",
    "    print(\"score on train: \"+ str(score_train))"
   ]
  },
  {
   "cell_type": "code",
   "execution_count": 47,
   "id": "75f3b510",
   "metadata": {},
   "outputs": [
    {
     "data": {
      "text/plain": [
       "(2400, 101)"
      ]
     },
     "execution_count": 47,
     "metadata": {},
     "output_type": "execute_result"
    }
   ],
   "source": [
    "y_train.shape"
   ]
  },
  {
   "cell_type": "code",
   "execution_count": 59,
   "id": "c34bafc3",
   "metadata": {},
   "outputs": [
    {
     "name": "stdout",
     "output_type": "stream",
     "text": [
      "(0, 0, 0, 0, 1, 1, 0, 0, 0, 0, 0, 0, 0, 0, 0, 0, 0, 0, 0, 0, 0, 0, 0, 0, 0, 0, 0, 0, 0, 0, 0, 0, 0, 1, 0, 0, 0, 0, 0, 0, 0, 0, 0, 0, 0, 0, 0, 0, 0, 0, 0, 0, 0, 0, 0, 0, 0, 0, 0, 0, 0, 0, 0, 0, 0, 0, 0, 0, 0, 0, 0, 0, 0, 0, 0, 0, 0, 0, 0, 0, 0, 0, 0, 0, 0, 0, 0, 0, 0, 0, 0, 0, 0, 0, 0, 0, 0, 0, 0, 0, 0)\n",
      "(0, 0, 0, 0, 0, 0, 0, 0, 0, 0, 0, 0, 0, 0, 1, 1, 0, 0, 0, 0, 0, 0, 0, 0, 0, 0, 0, 0, 0, 0, 0, 0, 0, 1, 0, 0, 0, 0, 0, 0, 0, 0, 0, 0, 0, 0, 0, 0, 0, 0, 0, 0, 0, 0, 0, 0, 0, 0, 0, 0, 0, 0, 0, 0, 0, 0, 0, 0, 0, 0, 0, 0, 0, 0, 0, 0, 0, 0, 0, 0, 0, 0, 0, 0, 0, 0, 0, 0, 0, 0, 0, 0, 0, 0, 0, 0, 0, 0, 0, 0, 0)\n",
      "(0, 0, 0, 0, 1, 1, 0, 0, 0, 0, 0, 0, 0, 0, 0, 0, 0, 0, 0, 0, 0, 0, 0, 0, 0, 0, 0, 0, 0, 0, 0, 0, 0, 1, 0, 0, 0, 0, 0, 0, 0, 0, 0, 0, 0, 0, 0, 0, 0, 0, 0, 0, 0, 0, 0, 0, 0, 0, 0, 0, 0, 0, 0, 0, 0, 0, 0, 0, 0, 0, 0, 0, 0, 0, 0, 0, 0, 0, 0, 0, 0, 0, 0, 0, 0, 0, 0, 0, 0, 0, 0, 0, 0, 0, 0, 0, 0, 0, 0, 0, 0)\n",
      "(0, 0, 0, 0, 0, 0, 0, 0, 0, 0, 0, 0, 0, 0, 0, 0, 0, 0, 0, 0, 0, 0, 0, 0, 0, 0, 0, 0, 0, 0, 0, 0, 0, 0, 0, 0, 0, 0, 0, 0, 0, 0, 0, 0, 0, 0, 0, 0, 0, 0, 0, 0, 0, 0, 0, 0, 0, 0, 0, 0, 0, 0, 0, 0, 0, 0, 0, 0, 0, 0, 1, 0, 0, 0, 0, 0, 0, 0, 0, 0, 0, 0, 0, 0, 0, 0, 0, 1, 0, 0, 0, 0, 0, 0, 0, 0, 0, 0, 0, 0, 0)\n",
      "(0, 0, 0, 0, 0, 0, 0, 0, 0, 0, 0, 0, 0, 0, 0, 0, 0, 0, 0, 0, 0, 0, 0, 0, 0, 0, 0, 0, 0, 0, 0, 0, 0, 0, 0, 0, 0, 0, 0, 0, 0, 0, 0, 0, 0, 0, 0, 0, 0, 0, 0, 0, 0, 0, 0, 0, 0, 0, 0, 0, 0, 0, 0, 0, 0, 0, 0, 0, 0, 0, 0, 0, 0, 0, 0, 0, 0, 0, 0, 0, 0, 0, 0, 0, 0, 0, 0, 0, 0, 0, 0, 0, 0, 1, 0, 0, 0, 0, 0, 0, 0)\n",
      "(0, 0, 0, 0, 0, 0, 0, 0, 0, 0, 0, 0, 0, 0, 0, 0, 0, 0, 0, 0, 0, 0, 0, 0, 0, 0, 0, 0, 0, 0, 0, 0, 0, 0, 0, 0, 0, 0, 0, 0, 0, 0, 0, 0, 0, 0, 0, 0, 0, 0, 0, 0, 0, 0, 0, 0, 0, 0, 0, 0, 0, 0, 0, 0, 0, 0, 0, 0, 0, 0, 0, 0, 0, 0, 0, 0, 0, 0, 0, 0, 0, 0, 0, 0, 0, 0, 0, 0, 0, 0, 0, 0, 0, 0, 0, 1, 0, 1, 0, 0, 0)\n"
     ]
    }
   ],
   "source": [
    "count = 0\n",
    "for i in range(len(power_pred_train)):\n",
    "    if(power_pred_train[i]==y_train_power[i]):\n",
    "        for labels, index in unique_dict.items():\n",
    "            if (index==power_pred_train[i]):\n",
    "                print(labels)\n",
    "                count+=1\n",
    "    if(count>5):\n",
    "        break           \n",
    "    "
   ]
  },
  {
   "cell_type": "code",
   "execution_count": 72,
   "id": "8ca32599",
   "metadata": {},
   "outputs": [
    {
     "data": {
      "text/plain": [
       "[<matplotlib.lines.Line2D at 0x1767ac06dd8>]"
      ]
     },
     "execution_count": 72,
     "metadata": {},
     "output_type": "execute_result"
    },
    {
     "data": {
      "image/png": "[encoded data removed]",
      "text/plain": [
       "<Figure size 432x288 with 1 Axes>"
      ]
     },
     "metadata": {
      "needs_background": "light"
     },
     "output_type": "display_data"
    }
   ],
   "source": [
    "\n",
    "import numpy as np\n",
    "import matplotlib.pyplot as plt\n",
    "plt.plot(np.sort(plt.hist(y_train_power, bins=np.arange(y_train_power.min(), y_train_power.max()+1))[0])[::-1])"
   ]
  },
  {
   "cell_type": "code",
   "execution_count": 5,
   "id": "5e195303",
   "metadata": {},
   "outputs": [],
   "source": [
    "co_matrix = np.matmul(y_train.T, y_train)"
   ]
  },
  {
   "cell_type": "code",
   "execution_count": 23,
   "id": "8bc7aa7b",
   "metadata": {},
   "outputs": [
    {
     "name": "stderr",
     "output_type": "stream",
     "text": [
      "c:\\users\\david\\anaconda3\\envs\\graphenv\\lib\\site-packages\\ipykernel_launcher.py:3: RuntimeWarning: invalid value encountered in true_divide\n",
      "  This is separate from the ipykernel package so we can avoid doing imports until\n"
     ]
    },
    {
     "data": {
      "text/plain": [
       "261"
      ]
     },
     "execution_count": 23,
     "metadata": {},
     "output_type": "execute_result"
    }
   ],
   "source": [
    "import matplotlib.pyplot as plt\n",
    "label_occur_vector = y_train.sum(axis=0)\n",
    "adjusted_co_matrix = co_matrix / label_occur_vector\n",
    "np.count_nonzero(adjusted_co_matrix==1)\n",
    "#plt.matshow(adjusted_co_matrix, aspect='auto')\n",
    "#plt.colorbar()"
   ]
  },
  {
   "cell_type": "code",
   "execution_count": 63,
   "id": "6e77de50",
   "metadata": {
    "scrolled": true
   },
   "outputs": [
    {
     "name": "stdout",
     "output_type": "stream",
     "text": [
      "0.4658333333333333\n",
      "0.4696666666666667\n"
     ]
    }
   ],
   "source": [
    "# find subset accuracy\n",
    "def subset_accuracy(pred, y):\n",
    "    count = 0\n",
    "    for i in range(len(pred)):\n",
    "        if (np.array_equal(pred[i], y[i])):\n",
    "            count = count + 1\n",
    "    print(count/len(pred))\n",
    "subset_accuracy(pred_train[:,0:50],y_train[:, 0:50])\n",
    "subset_accuracy(pred_test[:,0:50], y_test[:,0:50])"
   ]
  },
  {
   "cell_type": "code",
   "execution_count": 70,
   "id": "530065c9",
   "metadata": {},
   "outputs": [
    {
     "data": {
      "image/png": "[encoded data removed]",
      "text/plain": [
       "<Figure size 432x288 with 1 Axes>"
      ]
     },
     "metadata": {
      "needs_background": "light"
     },
     "output_type": "display_data"
    }
   ],
   "source": [
    "import matplotlib.pyplot as plt\n",
    "x = np.arange(101)\n",
    "plt.plot(x,train_sc,label='train')\n",
    "plt.plot(x,test_sc,label='test')\n",
    "plt.legend()\n",
    "plt.show()"
   ]
  },
  {
   "cell_type": "code",
   "execution_count": 72,
   "id": "f21b95ef",
   "metadata": {},
   "outputs": [
    {
     "data": {
      "text/plain": [
       "(1, 2, 3)"
      ]
     },
     "execution_count": 72,
     "metadata": {},
     "output_type": "execute_result"
    }
   ],
   "source": [
    "x = np.array([1,2,3])\n",
    "tuple(x)"
   ]
  },
  {
   "cell_type": "code",
   "execution_count": null,
   "id": "aba20d4b",
   "metadata": {},
   "outputs": [],
   "source": []
  }
 ],
 "metadata": {
  "kernelspec": {
   "display_name": "Python 3",
   "language": "python",
   "name": "python3"
  },
  "language_info": {
   "codemirror_mode": {
    "name": "ipython",
    "version": 3
   },
   "file_extension": ".py",
   "mimetype": "text/x-python",
   "name": "python",
   "nbconvert_exporter": "python",
   "pygments_lexer": "ipython3",
   "version": "3.7.1"
  }
 },
 "nbformat": 4,
 "nbformat_minor": 5
}
